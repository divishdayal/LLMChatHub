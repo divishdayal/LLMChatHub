{
 "cells": [
  {
   "cell_type": "code",
   "execution_count": 6,
   "metadata": {},
   "outputs": [],
   "source": [
    "from langchain.document_loaders import TextLoader\n",
    "from langchain.text_splitter import CharacterTextSplitter"
   ]
  },
  {
   "cell_type": "code",
   "execution_count": 4,
   "metadata": {},
   "outputs": [],
   "source": [
    "loader = TextLoader(\"/home/divish/Downloads/novelfull_05-31-2023-03-07-17_c03ab2756513f07e852b0c138c96ecc4bcd8121f.docx.txt\")"
   ]
  },
  {
   "cell_type": "code",
   "execution_count": 22,
   "metadata": {},
   "outputs": [],
   "source": [
    "text_splitter = CharacterTextSplitter(chunk_size=16000, chunk_overlap=500)"
   ]
  },
  {
   "cell_type": "code",
   "execution_count": 23,
   "metadata": {},
   "outputs": [],
   "source": [
    "with open(\"/home/divish/Downloads/novelfull_05-31-2023-03-07-17_c03ab2756513f07e852b0c138c96ecc4bcd8121f.docx.txt\") as f:\n",
    "    state_of_the_union = f.read()\n",
    "texts = text_splitter.split_text(state_of_the_union)"
   ]
  },
  {
   "cell_type": "code",
   "execution_count": 27,
   "metadata": {},
   "outputs": [
    {
     "data": {
      "text/plain": [
       "187428"
      ]
     },
     "execution_count": 27,
     "metadata": {},
     "output_type": "execute_result"
    }
   ],
   "source": [
    "len(state_of_the_union.split())"
   ]
  },
  {
   "cell_type": "code",
   "execution_count": 26,
   "metadata": {},
   "outputs": [
    {
     "data": {
      "text/plain": [
       "100"
      ]
     },
     "execution_count": 26,
     "metadata": {},
     "output_type": "execute_result"
    }
   ],
   "source": [
    "len(texts)"
   ]
  },
  {
   "cell_type": "code",
   "execution_count": 28,
   "metadata": {},
   "outputs": [
    {
     "data": {
      "text/plain": [
       "['\\ufeffChapter 1 - Crimson\\nChapter 1: Crimson\\nAtlasStudios\\nAtlasStudios\\nA gaudy and dazzling dreamworld filled with murmurs instantly shattered. The sound asleep Zhou Mingrui felt an abnormal throbbing pain in his head as though someone had ruthlessly lashed at him with a pole again and again. No, it was more like a sharp object pierced right through his temples followed by a twist!\\nIn his stupor, Zhou Mingrui attempted to turn around, look up, and sit up; however, he was completely unable to move his limbs as though he had lost control over his body.\\nZhou Mingrui, who was not unfamiliar with similar encounters, tried his best to focus in order to escape the shackles placed upon him by the darkness and confusion.\\nHowever, while still in his reverie, whatever will he could summon was ethereal like a fleeting fog. He found his thoughts difficult to control and introspect. No matter how much he tried, he still lost his focus as random thoughts surfaced in his mind.\\nThrobbing pain inundated Zhou Mingrui, allowing him to slowly accumulate immaterial strength until he was finally able to move his back and open his eyes. He finally broke free from his reverie.\\nHis vision first blurred before it was screened by a faint crimson red. All he could see was a study desk made of burly wood in front of him. Right in the middle was an opened notebook with coarse, yellow pages. The title was eye-catchingly written with strange, deep black lettering.\\nTo the left of the notebook was a stack of neatly arranged books, numbering about eight. The wall on their right was inset with grayish-white pipes with wall lamps connected to them.\\nThe lamp had a classical Western style to it. It was about half the size of an adult\\'s head with an inner layer of transparent glass and an exterior gridded with black metal.\\nDiagonally beneath the lamp was a black ink bottle shrouded in a pale red glow. Its embossed surface formed a blurry angel pattern.\\nIn front of the ink bottle and to the right of the notebook sat a dark-colored pen with a fully circular body. Its tip shimmered with a faint glint while its cap rested right beside a brass revolver.\\nZhou Mingrui was completely taken aback. The things laid before him were alien to him. It looked nothing like his room!\\nWhile feeling shocked and confused, he discovered that the desk, notebook, ink bottle, and revolver were covered in a layer of crimson \\'veil,\\' a result of the light shining from the window.\\nSubconsciously, he looked up and shifted his gaze up bit by bit.\\nIn midair, a crimson moon hung high above the backdrop of a \\'black velvet curtain,\\' glowing in silence.\\nZhou Mingrui felt inexplicably horrified as he stood up abruptly. However, before his feet fully straightened, his brain protested with throbbing pain. It made him temporarily lose his strength as he fell uncontrollably. His buttocks slammed heavily onto the burly wood chair.\\nThe pain did little. Zhou Mingrui stood up again by propping himself up. He turned around in a fluster as he began to size up the environment he was in.\\nThe room was not very large, with a brown door on each side of the room. Close to an opposite wall was a low wooden bed.\\nBetween the bed and the left door was a cabinet. Its two doors were swung open and beneath it were five drawers.\\nTo the side of the cabinet, there was the same grayish-white pipe on the wall at the height of a person. However, it was connected to a strange mechanical device with exposed gears and bearings in several spots.\\nItems resembling coal stoves sat in the right corner of the room near the table, along with soup pots, iron pots, and other kitchen utensils.\\nAcross the right door was a dressing mirror with two cracks. Its bottom was made of wood and the patterns were simple and plain.\\nWith a sweep of his gaze, Zhou Mingrui noticed himself in the mirror—the present him.\\nBlack hair, brown eyes, a linen shirt, thinly built, average-looking features and a rather deep outline…\\nZhou Mingrui immediately drew a gasp as many helpless and confused guesses surfaced in his mind.\\nThe revolver in ancient European style and the crimson moon that looked different from Earth\\'s moon could only mean one thing!\\nZhou Mingrui widened his mouth slightly.\\nHe had grown up reading web novels and had often fantasized over such scenes. However, he momentarily found it hard to accept the situation when he found himself in one.\\n? In a minute, Zhou Mingrui had already cursed himself while trying to make the best out of his adverse situation.\\nIf not for the still throbbing headache that made his thoughts high strung but clear, he would have definitely suspected that he was dreaming.\\nAfter taking a few deep breaths, Zhou Mingrui worked hard to stop panicking.\\nAt that moment, as his mind and body calmed down, memories began flooding him as they slowly appeared in his mind!\\nKlein Moretti, a citizen of the Northern Continent\\'s Loen Kingdom, Awwa County, City of Tingen. He is also a recent graduate from the Department of History at Khoy University…\\nHis father was a sergeant of the Imperial Army who had sacrificed himself during a colonial conflict with the Southern Continent. The bereavement allowance gave Klein the opportunity to study at a private language school and laid the foundation for his admission into university…\\nHis mother was a devotee of the Evernight Goddess. She passed away the year Klein passed the entrance examinations to Khoy University…\\nHe also had an elder brother and a younger sister. They stayed in a two bedroom apartment together…\\nTheir family was not wealthy and its situation could even be described as somewhat wanting. At present, the family was supported solely by the elder brother who worked at an import and export company as a clerk…\\nAs a history graduate, Klein grasped knowledge of the ancient Feysac language—deemed the origin of all languages in the Northern Continent—as well as the Hermes language which often appeared in ancient mausoleums as well as text regarding sacrificial and praying rituals…\\nZhou Mingrui\\'s mind stirred as he reached out to rub his throbbing temples. He cast his gaze toward the table at the opened notebook. He noticed that the text on the yellowed paper turned from strange to alien, before turning from alien to something familiar. It then turned into something readable.\\nIt was text written in Hermes language!\\nThe dark ink wrote the following:\\n\"Everyone will die, including me.\"\\nZhou Mingrui felt inexplicably horrified. He instinctively leaned back in an attempt to widen the distance between him and the notebook, as well as the text on it.\\nBeing very weak, he nearly fell down but managed to extend his hands in a fluster to hold onto the edge of the table. He felt that the surrounding air was turbulent as though there were faint murmurings resounding in it. The feeling was akin to hearing horror stories being recounted by elders when he was young.\\nHe shook his head, believing that everything was an illusion. Zhou Mingrui found his balance and shifted his gaze from the notebook as he heaved for breath.\\nThis time, his gaze landed on the shimmering brass revolver. He suddenly had a question arise in him.\\nZhou Mingrui could not help but frown.\\nWhile in deep thought, he suddenly discovered a red handprint to the side of the table. Its color was deeper than the moonlight and much thicker than the \\'veil.\\'\\nIt was a bloody handprint!\\n\"A bloody handprint?\" Zhou Mingrui subconsciously flipped his right hand that had been holding the edge of the table. Looking down, he saw that his palm and fingers were covered in blood.\\nAt the same time, the throbbing pain in his head continued. Although it had weakened a little, it continued incessantly.\\nZhou Mingrui guessed as he turned around and walked towards a cracked dressing mirror.\\nA few steps later, a black-haired figure of medium build and brown eyes appeared clearly in front of him. The person had a distinct scholarly air to him.\\nZhou Mingrui was stunned momentarily. Since there was insufficient lighting at night, he failed to see something clearly. He continued forward until he was just a step short from colliding with the mirror.\\nUsing the crimson veil-like moonlight as illumination, he turned his head and examined the corner of his forehead.\\nA clear reflection appeared in the mirror. His temple had a grotesque wound with burn marks along its periphery. Blood stained the wound\\'s surroundings and there were grayish-white brain juices squirming slowly within.\\n________________\\n\\n\\nChapter 2 - Situation\\nAtlasStudios',\n",
       " 'Chapter 2 - Situation\\nAtlasStudios\\n\\n\\nAtlasStudios\\nZhou Mingrui reeled back in fear at the sight that greeted him. It was as though the person in the dressing mirror was not himself, but a dessicated corpse.\\nHe turned his head in disbelief again and checked the other side. Even though he was a distance away and the lighting was poor, he could still see the penetrating wound and dark red blood stains.\\n“This…”\\nZhou Mingrui drew a deep breath as he tried hard to calm himself.\\nHe reached out to press his left chest and sensed his racing heart that exuded immense vitality.\\nHe then touched his exposed skin. Beneath the slight coldness was flowing warmth.\\nWhen he squatted down and after verifying that his knees could bend, Zhou Mingrui stood up again and calmed down.\\n“What’s happening?” he muttered with a frown. He planned to inspect his head injury seriously once more.\\nHe took two steps forward and suddenly paused. The moonlight of the sanguine moon was relatively dark, so it was insufficient for his ‘serious inspection.’\\nA memory fragment triggered as Zhou Mingrui turned his head to look at the grayish-white pipes and the metallic-gridded lamp on the wall right beside the study desk.\\nThis was the most common gas lamp of the times. Its flame was stable and its illumination capabilities were excellent.\\nWith Klein Moretti’s family situation, even a kerosene lamp was a dream, much less a gas lamp. Using candles was most apt for their standing and stature. However, back when he burned the midnight oil four years ago to be admitted into Khoy University, his elder brother, Benson, felt that it was an important matter which their family’s future depended upon. Therefore, he insisted on creating conducive studying conditions for Klein even if it meant taking on debt.\\nOf course, Benson, who was literate and had worked for several years, was not a rash person who did not think of the consequences. He had quite some tricks up his sleeve. He reasoned with the landlord to ‘raise the apartment’s standards by installing gas pipes to improve the likelihood of rentals in the future.’ The landlord was convinced and provided the money to complete the basic modifications. Then, using the convenience of working at an import and export company, he purchased a brand new gas lamp which was nearly at cost price. In the end, all he needed was to use his savings and did not need to borrow money.\\nAfter the memory fragment flashed past his mind, Zhou Mingrui came to the desk where he turned the pipe’s valve and began twisting the gas lamp’s switch.\\nWith a sputtering sound, a spark sounded from friction. Light did not descend upon Zhou Mingrui as he had expected.\\nHe twisted the switch a few more times, but all the gas lamp did was sputter and remain dark.\\n“Hmm…” Retracting his hand and pressing on his left temple, Zhou Mingrui sought for the reason by rummaging through his memory fragments.\\nA few seconds later, he turned around and walked toward the door. He arrived at the machine installation which was similarly inset into the wall and had grayish-white pipes connected to it.\\nThis was a gas meter!\\nAfter seeing the exposed gears and bearings, Zhou Mingrui took out a coin from his trousers’ pocket.\\nIt was dark yellow in color and had a bronze shimmer to it. The front of the coin was engraved with a portrait of a crown-wearing man, and there was a ‘1’ on a clump of wheat on the back.\\nZhou Mingrui knew that this was the most basic currency of the Loen Kingdom. It was called a copper penny. One penny’s purchasing power was roughly three to four yuan before his transmigration. Such coins had other denominations such as the five pence, a halfpence and a quarterpence. Despite the three types, the denominations were not in small-enough units. In everyday life, one had to buy several different things just to spend a single coin from time to time.\\nAfter flipping the coin—which was only minted and circulated after King George III ascended to the throne—a few times, Zhou Mingrui inserted it into the gas meter’s thin vertical ‘mouth.’\\nAfter the penny fell to the bottom of the meter, the sound of grinding gears sounded immediately, producing a short but melodious mechanical rhythm.\\nZhou Mingrui stared at the meter for a few seconds before returning to the burly wood desk. He then reached out to twist the gas lamp’s switch.\\nAfter some sputtering, there was a sharp sound!\\nA fire plume ignited and rapidly grew. Bright light first occupied the internals of the wall lamp before penetrating the transparent glass, blanketing the room with a warm glow.\\nThe darkness quickly receded as the crimson retreated out the window. Zhou Mingrui felt at ease for a baffling reason as he quickly came in front of the dressing mirror.\\nThis time, he seriously inspected his temple and did not miss a single detail.\\nAfter a few rounds of inspection, he realized that apart from the original blood stain, liquid was no longer flowing out of the grotesque wound. It appeared like it had received the best hemostasis and bandaging. As for the slowly squirming grayish-white brain and the discernible growth of flesh and blood around the wound, it meant that the wound might take thirty to forty minutes, or maybe even two to three hours before it would only leave a light scar.\\n“The restorative effects that transmigration brings?” Zhou Mingrui curled up the right corner of his mouth as he muttered silently.\\nFollowing that, he let out a long sigh. Regardless, he was still alive!\\nAfter settling his mind, he pulled open a drawer and took out a tiny piece of soap. He took one of the old and tattered towels hanging by the side of the cupboard and opened the door. He then walked to the public bathroom which was shared by the tenants on the second floor.\\nThe corridor outside was pitch black. Silhouettes were barely accentuated by the crimson moonlight from the window at the end of the corridor. They looked like a pair of monster eyes that silently observed the living late into the night.\\nZhou Mingrui lightened his footsteps as he walked towards the communal bathroom with a shuddering fear.\\nWhen he entered, there was even more moonlight, allowing him to see everything clearly. Zhou Mingrui stood in front of a wash basin and turned the tap’s knob.\\nUpon hearing the gushing sound of water, he suddenly recalled his landlord, Mr. Franky.\\nAs water was included in the rent, this short and thin gentleman who wore a top hat, a vest, and a black suit, always inspected the bathroom actively to take note of any sounds of flowing water.\\nIf the water gushed too loudly, Mr. Franky would ignore all of his gentlemanly traits by flailing his walking stick and striking the bathroom’s door, shouting things like ‘Darn thief,’ ‘Wastage is a shameless matter,’ ‘I’ll remember you,’ ‘If I see this happen another time, scram along with your filthy luggage,’ ‘Mark my words, this is the most value-for-money apartment in Tingen City. You will not find a more kindly landlord anywhere else!’\\nPutting away those thoughts, Zhou Mingrui used a moist towel to clean the blood stains from his face again and again.\\nAfter checking himself using the rundown mirror in the bathroom and verifying that all that was left were a hideous wound and a pale face did Zhou Mingrui relax. Then, he took off his linen shirt and used a bar of soap to wash away the bloodstains.\\nAt that moment, he knitted his brows and recalled of a possible problem.\\nThe wound was too exaggerated and there was too much blood. Apart from his body, his room likely still had signs of his injury!\\nAfter Zhou Mingrui was done with his linen shirt a few minutes later, he briskly returned to his apartment with a moist towel. He first wiped the blood handprint on the desk and then, using the gas lamp’s illumination, sought out spots which he missed out.\\nHe immediately discovered that quite a substantial amount of blood had splattered onto the floor beneath the desk. And there was a yellow bullet to the left side of the wall.\\n“Releasing a round with a revolver pointed at the temple?” After mixing and matching the clues from before, Zhou Mingrui had a rough idea how Klein had died.\\nHe was in no hurry to verify his guess. Instead, he seriously wiped away the blood stains and cleaned up the ‘scene.’ Following that, he took the bullet and returned to the side of his desk. He opened the revolver’s cylinder and poured out the rounds inside.\\nA total of five rounds and a cartridge shell all had a brass luster to them.\\n“Indeed…” Zhou Mingrui looked at the empty cartridge shell in front of him and stuffed the rounds back into the cylinder while nodding.\\nHe shifted his gaze to the left and it landed on the notebook’s words: ‘Everyone will die, including me.’ Following that, even more questions arose in him.\\nAfter pondering for a moment, Zhou Mingrui changed into another linen shirt. He sat on the chair and began pondering over more important matters.\\nKlein’s experience was still not something he needed to concern himself with. The true problem was to figure out the reason for his transmigration and if he could return!\\nHis parents, relatives, best buddies, and friends. The fascinating world of the Internet and all sorts of delicious delicacies… These were reasons that prompted his desire to return!\\nZhou Mingrui’s right hand was subconsciously pulling out the revolver’s cylinder and slamming it back into place, again and again.\\nA thought flashed in Zhou Mingrui’s mind, illuminating the memories which were concealed by a fog of confusion.\\nAs a qualified keyboard politician, keyboard historian, keyboard economist, keyboard biologist, and keyboard folklorist, he had always deemed himself as ‘knowing something of everything.’ Of course, his best buddy would often mock him as ‘only knowing a little of everything.’\\nAnd one of them was Chinese Divination.\\nWhen he visited his hometown last year, he had discovered a thread-bound book titled ‘Quintessential Divination and Arcane Arts of the Qin and Han Dynasty’ at an old bookstore. It looked pretty interesting and could aid him in posturing on the Internet, so he bought it. Unfortunately, his interest was short-lived. The vertical script it used made the reading experience horrible. All he did was flip through the beginning pages before he threw it into a corner.\\nHe had experienced a spate of bad luck in the past month—losing his cell phone, customers running away after cheating him, and mistakes at work. Only then did he suddenly recall the luck enhancement ritual written at the beginning of ‘Quintessential Divination and Arcane Arts.’ Furthermore, the requirements were extremely simple, without any basic foundation requirements.\\nAll he needed was to get four portions of the staple food in his area and place them in the four corners of his room. They could be placed on furniture such as tables and cupboards. Then, standing in the middle of the room, he had to take four steps in a counter-clockwise fashion to make a square. The first step required him to sincerely chant ‘Blessings Stem From The Immortal Lord of Heaven and Earth.’ The second step was to silently chant, ‘Blessings Stem From The Sky Lord of Heaven and Earth.’ The third step was ‘Blessings Stem From The Exalted Thearch of Heaven and Earth,’ and the fourth step was ‘Blessings Stem From The Celestial Worthy of Heaven and Earth.’ After the four steps were taken, he needed to close his eyes and wait five minutes in his original spot. Only then would the ritual be considered complete.\\nSince it did not cost him any money, he found the book, followed what was stipulated, and did it before dinner. However… nothing happened back then.\\nWho would have guessed that he would actually transmigrate in the middle of the night!\\nTransmigration!\\n“There is a distinct possibility that it’s due to that luck enhancement ritual… Yes, I should give it a try here tomorrow. If it’s really because of that, I stand a chance of transmigrating back!” Zhou Mingrui stopped flicking the revolver’s cylinder and suddenly sat straight up.\\nRegardless, he had to give it a try!\\nHe had to attempt a Hail Mary!\\n________________\\n\\n\\nChapter 3 - Melissa\\nAtlasStudios',\n",
       " 'Chapter 3 - Melissa\\nAtlasStudios\\n\\n\\nAtlasStudios\\nAfter confirming his plan, Zhou Mingrui immediately felt he had a mental crutch. His fear and unease were all swept away into a corner of his mind.\\nOnly then did he had the mood to carefully study Klein’s memory fragments.\\nZhou Mingrui habitually stood up before turning off the pipe’s valve. He watched the wall lamp gradually dim until its flame extinguished before sitting back down. As he subconsciously fiddled with the revolver’s brass cylinder, he pressed the side of his head. He slowly recalled his memories in the crimson-dyed darkness as though he was the most attentive viewer in a movie theater.\\nPerhaps as a result of having a bullet pass through his head, Klein’s memories were like shattered glass. Not only were the memories not contiguous, there were many spots which were clearly missing. For example, memories pertaining to how the exquisite revolver appeared in his possession, whether he had committed suicide, or was killed, as well as the meaning of the words ‘Everyone will die, including me’ on the notebook, or whether he had participated in anything odd two days before the incident.\\nNot only had these particular memories become fragmented, there were also missing pieces. It was the same even for knowledge he ought to know. In light of the present situation, Zhou Mingrui believed that if Klein were to return to university, it was unlikely he could graduate. This was despite him having left campus just days ago without relaxing one bit.\\n…\\nThrough the window, Zhou Mingrui silently observed the red moon setting in the west. The gradual sinking of the moon continued until faint light glowed from the east, dyeing the horizon golden.\\nAt that moment, there was a commotion inside the apartment. Soon, the sound of footsteps approached his door.\\n“Melissa is awake… She’s really as punctual as always.” Zhou Mingrui smiled. Due to Klein’s memories, seeing Melissa made him feel as though she was really his younger sister.\\nHe immediately contradicted himself.\\nMelissa was different from Benson and Klein. Her rudimentary education was not completed at the Sunday school classes offered by the Church of the Evernight Goddess. When she reached schooling age, the Loen Kingdom had enacted the ‘Basic Education Law.’ A Primary and Secondary Education Committee was established and was specially provided with funding, increasing the kingdom’s investment into education.\\nIn less than three years, under the premise that numerous church schools would be incorporated, many public primary schools were established to strictly maintain the principle of religious neutrality. This was to prevent education from involving itself in the conflicts between the Lord of Storms, Evernight Goddess, and the God of Steam and Machinery.\\nCompared to Sunday school that only cost a copper penny a week, a public primary school’s cost of three pence a week appeared rather expensive. However, the former only provided education every Sunday, whereas the latter provided six days of classes a week. In conclusion, the price was so low that it was almost free.\\nMelissa was different from most girls. From a young age, she enjoyed things like gears, springs, and bearings. Her ambition was to be a steam mechanic.\\nHaving suffered from a lack of culture, Benson, who knew the importance of education, supported his sister’s dreams just like how he supported Klein’s university education. After all, Tingen Technical School was only considered secondary education. There was no need for her to attend language school or a public school for more knowledge.\\nIn July last year, fifteen-year-old Melissa passed her entrance examinations and fulfilled her dreams of becoming a student at the Tingen Technical School’s Steam and Machinery department. As such, her weekly school fees raised to nine pence.\\nMeanwhile, Benson’s company was affected by the situation in the Southern Continent. There was a drastic drop both in profit and business transactions. More than a third of the employees were retrenched. In order to keep his job and maintain their livelihood, Benson could only accept more arduous tasks. He had to work overtime more frequently or head to places with harsh environments. That was what he was occupied with the past few days.\\nIt was not that Klein did not think of helping share his elder brother’s burden but being born a commoner and having been admitted into an average language school, he felt a strong sense of inadequacy when he enrolled into university. For example, as the origin of all languages in the Northern Continent, the ancient language of Feysac was something all the children of nobles and of the wealthy class would learn from a young age. In contrast, he only made first contact with it in university.\\nHe faced many similar aspects during his schooling career. Klein nearly gave his all and often stayed up late into the night and woke up early before barely managing to catch up to the others, eventually allowing him to graduate with average results.\\nMemories regarding his elder brother and younger sister remained active in Zhou Mingrui’s mind until he turned the doorknob open. Only then did he jolt awake and remember that he held a revolver in his hand.\\nWith Melissa arriving at any moment, Zhou Mingrui pressed onto his temple and hurriedly pulled open a desk drawer and threw the revolver in before slamming it close.\\n“What happened?” Melissa looked over curiously when she heard the commotion.\\nShe was still in the prime of her youth. Even though she did not have much nutritious food to eat, making her face thin and slightly pale, her skin remained lustrous as it exuded the vibes of a young girl.\\nWhen Zhou Mingrui saw his sister’s brown eyes look over, he forcibly composed himself and picked up an item beside his hand before calmly closing the drawer to conceal the existence of the revolver. He placed his other hand on his temple, the texture confirming that his wound had already healed!\\nHe took out a silver vine-leaf pocket watch and pressed the top gently, causing its cover to flip open.\\nIt was a picture of the siblings’ father. It was the most valuable item the Royal Army sergeant left behind, but being a second-hand item, it would often malfunction from time to time in recent years even though he had gotten a watchsmith to fix it. It had embarrassed Benson who enjoyed bringing it with him to elevate his status many a time, so it was thrown away back at home in the end.\\nIt had to be said that perhaps Melissa did have talent in machinery. After grasping the principles behind the watch, she borrowed the tools from her Technical School to fiddle with the pocket watch. Recently, she even claimed to have fixed it!\\nZhou Mingrui looked at the watch’s open cover and saw that the second hand was not moving. Subconsciously, he twisted the top dial to wind the pocket watch.\\nHowever, despite winding it a few times, he did not hear the sound of taut springs. The second hand remained motionless.\\n“It looks like it’s broken again.” He looked at his sister while trying to find a topic of conversation.\\nMelissa shot him an expressionless glance and briskly walked over to take the pocket watch away.\\nShe stood in her spot and pulled up the button sitting atop the pocket watch. With a few simple turns, the tick-tocking of the second hand sounded.\\nZhou Mingrui’s expression immediately turned blank.\\nAt that moment, a bell chimed from a faraway cathedral. It chimed six times, sounding distant and ethereal.\\nMelissa tilted her head to listen to it and pulled the button up once again. Following that, she turned it to synchronize the time.\\n“It’s okay now,” she said simply without emotion. She then pressed the top button back and handed the pocket watch back to Zhou Mingrui.\\nZhou Mingrui returned a smile politely in embarrassment.\\nMelissa gave her elder brother a piercing stare before turning to walk to the cupboard. She took her toiletries and towel before opening the door to leave. She headed for the public bathroom.\\nZhou Mingrui lowered his head and chuckled. He closed the pocket watch’s cover with a click before opening it again.\\nHe repeated this action as his idle thoughts focused on a question.\\nThe pocket watch opened.\\nThe pocket watch is closed… Melissa returned from washing up and saw her brother’s subconscious act of constantly opening and closing the pocket watch.\\nHer gaze was once again glazed with exasperation as she said with a sweet voice, “Klein, take out all the remaining bread. Remember to buy fresh ones today. There’s meat and peas too. Your interview is soon. I’ll make you mutton stewed with peas.”\\nAs she spoke, she moved a stove out from a corner. With some charcoal, she boiled a pot of hot water.\\nBefore the water boiled, she opened the cupboard’s lowest drawer and took out what seemed like a treasure—a can of inferior tea leaves. She threw about ten leaves into the pot and pretended that it was real tea.\\nMelissa poured two big cups of tea as she shared two pieces of rye bread with Zhou Mingrui over tea.\\nZhou Mingrui still felt weak and was starving. He forced himself to swallow the bread with the tea while complaining inwardly.\\nMelissa finished eating a few minutes later. After she adjusted her black hair that reached down to her vest, she looked at Zhou Mingrui and said, “Remember to buy fresh bread. All we need is eight pounds. The weather is hot, so the bread will easily spoil. Also, buy the mutton and peas. Remember to buy them!”\\nZhou Mingrui nodded with a smile.\\n“Alright.”\\nRegarding the Loen Kingdom’s pound, Zhou Mingrui matched Klein’s muscle memory with his. He believed it was close to half a kilogram of what he was accustomed to.\\nMelissa did not say anything further. She stood up and tidied the area. After packing away the last bit of bread for lunch, she put on a tattered veil cap that their mother left behind, picked up a self-sewn bag used to carry her books and stationery, and prepared to leave.\\nIt was not Sunday, so she had an entire day of classes to attend.\\nWalking from their apartment to Tingen Technical School took about fifty minutes. There were public horse carriages that cost a penny a kilometer with a limit of four pence in the city and six pence in the city outskirts. In order to save money, Melissa would leave ahead of time and walk to school.\\nMoments after she opened the main door, she paused in her footsteps and turned her body halfway, saying, “Klein, don’t buy too much mutton or peas. Benson might come back on Sunday. Oh, and remember we only need eight pounds of bread.”\\n“Alright. Sure thing,” answered Zhou Mingrui exasperatedly.\\nSimultaneously, he repeated the word ‘Sunday’ a few times in his head.\\nIn the Northern Continent, a year was similarly split into twelve months. Every year, there was 365 or 366 days. A week was similarly split into seven days.\\nThe splitting of months was a result of astronomical observations. It made Zhou Mingrui suspect whether he was in a parallel world. As for the splitting of days, it was a result of religion. This was because Northern Continent had seven orthodox gods—the Eternal Blazing Sun, the Lord of Storms, the God of Knowledge and Wisdom, the Evernight Goddess, Mother Earth, the God of War, and the God of Steam and Machinery.\\nWatching his sister close the door and leave, Zhou Mingrui suddenly sighed. Soon, his thoughts focused onto the luck enhancement ritual.\\n________________\\n\\n\\nChapter 4 - Divination\\nAtlasStudios']"
      ]
     },
     "execution_count": 28,
     "metadata": {},
     "output_type": "execute_result"
    }
   ],
   "source": [
    "texts[0:3]"
   ]
  },
  {
   "cell_type": "code",
   "execution_count": 11,
   "metadata": {},
   "outputs": [],
   "source": [
    "from langchain import OpenAI, PromptTemplate, LLMChain\n",
    "\n",
    "llm = OpenAI(temperature=0)"
   ]
  },
  {
   "cell_type": "code",
   "execution_count": 13,
   "metadata": {},
   "outputs": [],
   "source": [
    "from langchain.docstore.document import Document\n",
    "\n",
    "docs = [Document(page_content=t) for t in texts]"
   ]
  },
  {
   "cell_type": "code",
   "execution_count": 14,
   "metadata": {},
   "outputs": [],
   "source": [
    "from langchain.chains.summarize import load_summarize_chain\n"
   ]
  },
  {
   "cell_type": "code",
   "execution_count": 25,
   "metadata": {},
   "outputs": [],
   "source": [
    "prompt_template = \"\"\"Write a concise summary of the following in 500 words only:\n",
    "\n",
    "\n",
    "{text}\n",
    "\n",
    "\n",
    "CONCISE SUMMARY in 500 words:\"\"\""
   ]
  },
  {
   "cell_type": "code",
   "execution_count": 18,
   "metadata": {},
   "outputs": [
    {
     "data": {
      "text/plain": [
       "{'output_text': \"\\n\\nKlein Moretti is a Seer who works at the Divination Club in Deweyville. He is approached by Bogda Jones, who wishes to have his fortune told. Klein notices that Bogda is unwell and advises him to see a doctor instead. After the divination, Klein remembers a folk herb store in East Borough that might be able to help Bogda. He gives Bogda the address and tells him to come back on Monday if he can't find it. Bogda finds the store and the owner gives him a bag of herbs that can cure his liver disease. \\n\\nKlein is then accepted as an official member of the Holy Cathedral and is given a make-up pay of three pounds. Meanwhile, Elizabeth is a hardworking and dedicated employee at AtlasStudios, a film production company. In Chapter 34 of their operations manual, they discuss the importance of advance payments. Chapter 35 outlines the importance of exchanging information in order to ensure the success of any business. Chapter 36 focuses on the concept of a club, and Chapter 37 discusses the concept of a side arm. Klein is invited to join AtlasStudios and is sent to the accountant, Mrs. Orianna, to receive an advance payment. He is then sent to Old Neil\"}"
      ]
     },
     "execution_count": 18,
     "metadata": {},
     "output_type": "execute_result"
    }
   ],
   "source": [
    "PROMPT = PromptTemplate(template=prompt_template, input_variables=[\"text\"])\n",
    "# chain = load_summarize_chain(OpenAI(temperature=0.3, model=\"gpt-3.5-turbo-16k\"), chain_type=\"map_reduce\", return_intermediate_steps=False, map_prompt=PROMPT, combine_prompt=PROMPT)\n",
    "# chain({\"input_documents\": docs}, return_only_outputs=True)"
   ]
  },
  {
   "cell_type": "code",
   "execution_count": 19,
   "metadata": {},
   "outputs": [
    {
     "data": {
      "text/plain": [
       "207"
      ]
     },
     "execution_count": 19,
     "metadata": {},
     "output_type": "execute_result"
    }
   ],
   "source": [
    "x = \"Klein Moretti is a Seer who works at the Divination Club in Deweyville. He is approached by Bogda Jones, who wishes to have his fortune told. Klein notices that Bogda is unwell and advises him to see a doctor instead. After the divination, Klein remembers a folk herb store in East Borough that might be able to help Bogda. He gives Bogda the address and tells him to come back on Monday if he can't find it. Bogda finds the store and the owner gives him a bag of herbs that can cure his liver disease. \\n\\nKlein is then accepted as an official member of the Holy Cathedral and is given a make-up pay of three pounds. Meanwhile, Elizabeth is a hardworking and dedicated employee at AtlasStudios, a film production company. In Chapter 34 of their operations manual, they discuss the importance of advance payments. Chapter 35 outlines the importance of exchanging information in order to ensure the success of any business. Chapter 36 focuses on the concept of a club, and Chapter 37 discusses the concept of a side arm. Klein is invited to join AtlasStudios and is sent to the accountant, Mrs. Orianna, to receive an advance payment. He is then sent to Old Neil\"\n",
    "len(x.split())"
   ]
  },
  {
   "cell_type": "code",
   "execution_count": null,
   "metadata": {},
   "outputs": [],
   "source": []
  }
 ],
 "metadata": {
  "kernelspec": {
   "display_name": "Python 3 (ipykernel)",
   "language": "python",
   "name": "python3"
  },
  "language_info": {
   "codemirror_mode": {
    "name": "ipython",
    "version": 3
   },
   "file_extension": ".py",
   "mimetype": "text/x-python",
   "name": "python",
   "nbconvert_exporter": "python",
   "pygments_lexer": "ipython3",
   "version": "3.10.3"
  }
 },
 "nbformat": 4,
 "nbformat_minor": 1
}
